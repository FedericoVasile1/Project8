{
  "nbformat": 4,
  "nbformat_minor": 0,
  "metadata": {
    "colab": {
      "name": "visualizing_crc.ipynb",
      "provenance": [],
      "collapsed_sections": []
    },
    "kernelspec": {
      "name": "python3",
      "display_name": "Python 3"
    }
  },
  "cells": [
    {
      "cell_type": "code",
      "metadata": {
        "id": "T7tHx1LczJvi"
      },
      "source": [
        "!git clone https://github.com/FedericoVasile1/Project8"
      ],
      "execution_count": null,
      "outputs": []
    },
    {
      "cell_type": "code",
      "metadata": {
        "id": "s4i5XDgL-zP1"
      },
      "source": [
        "%cd /content/Project8/\n",
        "!pip install -r requirements.txt"
      ],
      "execution_count": null,
      "outputs": []
    },
    {
      "cell_type": "code",
      "metadata": {
        "id": "yUBYXI70-3Zl"
      },
      "source": [
        "!bash download_crc_3_noisy.sh"
      ],
      "execution_count": null,
      "outputs": []
    },
    {
      "cell_type": "code",
      "metadata": {
        "id": "_tntvNyhEleo"
      },
      "source": [
        "!python src/utils/label_conversion.py"
      ],
      "execution_count": null,
      "outputs": []
    },
    {
      "cell_type": "code",
      "metadata": {
        "id": "Nv0Ylj1D_P2G"
      },
      "source": [
        "import os\n",
        "import numpy as np\n",
        "from src.utils.visualize import plot_random_images, stats_classes\n",
        "\n",
        "# Load array images, de-normalize and de-center\n",
        "X_train = np.load(os.path.join('data', 'crc_3_noisy', 'X_train.npy'))\n",
        "Y_train = np.load(os.path.join('data', 'crc_3_noisy', 'real_classes_train_int.npy'))\n",
        "mean_image = np.load(os.path.join('data', 'crc_3_noisy', 'mean_x_train.npy'))\n",
        "\n",
        "X_train *= 255.\n",
        "X_train[:, :, :, 0] += mean_image[0]\n",
        "X_train[:, :, :, 1] += mean_image[1]\n",
        "X_train[:, :, :, 2] += mean_image[2]\n",
        "X_train = X_train.astype('uint8')"
      ],
      "execution_count": null,
      "outputs": []
    },
    {
      "cell_type": "code",
      "metadata": {
        "id": "ZGH1pcvHA2zD"
      },
      "source": [
        "CLASS_INDEX = [\"AC\", \"AD\", \"H\", \"blood\", \"fat\", \"glass\", \"stroma\"]\n",
        "\n",
        "# Visualize random images\n",
        "np.random.seed(7)\n",
        "plot_random_images(X_train, \n",
        "                   Y_train,\n",
        "                   class_index=CLASS_INDEX,\n",
        "                   examples=16,\n",
        "                   fig_suptitle='X_train_samples', \n",
        "                   figsize=(10, 10))"
      ],
      "execution_count": null,
      "outputs": []
    },
    {
      "cell_type": "code",
      "metadata": {
        "id": "wiLABjT99nCp"
      },
      "source": [
        "stats_classes('CRC', CLASS_INDEX, True)"
      ],
      "execution_count": null,
      "outputs": []
    }
  ]
}