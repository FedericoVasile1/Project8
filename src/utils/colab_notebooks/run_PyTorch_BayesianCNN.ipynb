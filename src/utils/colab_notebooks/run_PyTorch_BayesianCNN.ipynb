{
  "nbformat": 4,
  "nbformat_minor": 0,
  "metadata": {
    "colab": {
      "name": "run_PyTorch-BayesianCNN.ipynb",
      "provenance": [],
      "collapsed_sections": []
    },
    "kernelspec": {
      "name": "python3",
      "display_name": "Python 3"
    },
    "accelerator": "GPU"
  },
  "cells": [
    {
      "cell_type": "code",
      "metadata": {
        "id": "toEsokv6uyoV"
      },
      "source": [
        "!pip install torch==1.4.0 torchvision==0.5.0"
      ],
      "execution_count": null,
      "outputs": []
    },
    {
      "cell_type": "code",
      "metadata": {
        "id": "Mj6Nrkxiu054"
      },
      "source": [
        "!git clone https://github.com/kumar-shridhar/PyTorch-BayesianCNN"
      ],
      "execution_count": null,
      "outputs": []
    },
    {
      "cell_type": "code",
      "metadata": {
        "id": "hHoA_aVZu6NG"
      },
      "source": [
        "%cd PyTorch-BayesianCNN\n",
        "!python main_bayesian.py --net_type 'alexnet'"
      ],
      "execution_count": null,
      "outputs": []
    },
    {
      "cell_type": "code",
      "metadata": {
        "id": "73giyr62vWiw"
      },
      "source": [
        "!python main_frequentist.py --net_type 'alexnet'"
      ],
      "execution_count": null,
      "outputs": []
    }
  ]
}